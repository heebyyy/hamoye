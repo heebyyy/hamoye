{
 "cells": [
  {
   "cell_type": "code",
   "execution_count": 1,
   "metadata": {},
   "outputs": [],
   "source": [
    "# importing my libraries\n",
    "\n",
    "import pandas as pd\n",
    "import numpy as np"
   ]
  },
  {
   "cell_type": "code",
   "execution_count": 2,
   "metadata": {},
   "outputs": [
    {
     "data": {
      "text/html": [
       "<div>\n",
       "<style scoped>\n",
       "    .dataframe tbody tr th:only-of-type {\n",
       "        vertical-align: middle;\n",
       "    }\n",
       "\n",
       "    .dataframe tbody tr th {\n",
       "        vertical-align: top;\n",
       "    }\n",
       "\n",
       "    .dataframe thead th {\n",
       "        text-align: right;\n",
       "    }\n",
       "</style>\n",
       "<table border=\"1\" class=\"dataframe\">\n",
       "  <thead>\n",
       "    <tr style=\"text-align: right;\">\n",
       "      <th></th>\n",
       "      <th>tau1</th>\n",
       "      <th>tau2</th>\n",
       "      <th>tau3</th>\n",
       "      <th>tau4</th>\n",
       "      <th>p1</th>\n",
       "      <th>p2</th>\n",
       "      <th>p3</th>\n",
       "      <th>p4</th>\n",
       "      <th>g1</th>\n",
       "      <th>g2</th>\n",
       "      <th>g3</th>\n",
       "      <th>g4</th>\n",
       "      <th>stab</th>\n",
       "      <th>stabf</th>\n",
       "    </tr>\n",
       "  </thead>\n",
       "  <tbody>\n",
       "    <tr>\n",
       "      <th>0</th>\n",
       "      <td>2.959060</td>\n",
       "      <td>3.079885</td>\n",
       "      <td>8.381025</td>\n",
       "      <td>9.780754</td>\n",
       "      <td>3.763085</td>\n",
       "      <td>-0.782604</td>\n",
       "      <td>-1.257395</td>\n",
       "      <td>-1.723086</td>\n",
       "      <td>0.650456</td>\n",
       "      <td>0.859578</td>\n",
       "      <td>0.887445</td>\n",
       "      <td>0.958034</td>\n",
       "      <td>0.055347</td>\n",
       "      <td>unstable</td>\n",
       "    </tr>\n",
       "    <tr>\n",
       "      <th>1</th>\n",
       "      <td>9.304097</td>\n",
       "      <td>4.902524</td>\n",
       "      <td>3.047541</td>\n",
       "      <td>1.369357</td>\n",
       "      <td>5.067812</td>\n",
       "      <td>-1.940058</td>\n",
       "      <td>-1.872742</td>\n",
       "      <td>-1.255012</td>\n",
       "      <td>0.413441</td>\n",
       "      <td>0.862414</td>\n",
       "      <td>0.562139</td>\n",
       "      <td>0.781760</td>\n",
       "      <td>-0.005957</td>\n",
       "      <td>stable</td>\n",
       "    </tr>\n",
       "    <tr>\n",
       "      <th>2</th>\n",
       "      <td>8.971707</td>\n",
       "      <td>8.848428</td>\n",
       "      <td>3.046479</td>\n",
       "      <td>1.214518</td>\n",
       "      <td>3.405158</td>\n",
       "      <td>-1.207456</td>\n",
       "      <td>-1.277210</td>\n",
       "      <td>-0.920492</td>\n",
       "      <td>0.163041</td>\n",
       "      <td>0.766689</td>\n",
       "      <td>0.839444</td>\n",
       "      <td>0.109853</td>\n",
       "      <td>0.003471</td>\n",
       "      <td>unstable</td>\n",
       "    </tr>\n",
       "    <tr>\n",
       "      <th>3</th>\n",
       "      <td>0.716415</td>\n",
       "      <td>7.669600</td>\n",
       "      <td>4.486641</td>\n",
       "      <td>2.340563</td>\n",
       "      <td>3.963791</td>\n",
       "      <td>-1.027473</td>\n",
       "      <td>-1.938944</td>\n",
       "      <td>-0.997374</td>\n",
       "      <td>0.446209</td>\n",
       "      <td>0.976744</td>\n",
       "      <td>0.929381</td>\n",
       "      <td>0.362718</td>\n",
       "      <td>0.028871</td>\n",
       "      <td>unstable</td>\n",
       "    </tr>\n",
       "    <tr>\n",
       "      <th>4</th>\n",
       "      <td>3.134112</td>\n",
       "      <td>7.608772</td>\n",
       "      <td>4.943759</td>\n",
       "      <td>9.857573</td>\n",
       "      <td>3.525811</td>\n",
       "      <td>-1.125531</td>\n",
       "      <td>-1.845975</td>\n",
       "      <td>-0.554305</td>\n",
       "      <td>0.797110</td>\n",
       "      <td>0.455450</td>\n",
       "      <td>0.656947</td>\n",
       "      <td>0.820923</td>\n",
       "      <td>0.049860</td>\n",
       "      <td>unstable</td>\n",
       "    </tr>\n",
       "  </tbody>\n",
       "</table>\n",
       "</div>"
      ],
      "text/plain": [
       "       tau1      tau2      tau3      tau4        p1        p2        p3  \\\n",
       "0  2.959060  3.079885  8.381025  9.780754  3.763085 -0.782604 -1.257395   \n",
       "1  9.304097  4.902524  3.047541  1.369357  5.067812 -1.940058 -1.872742   \n",
       "2  8.971707  8.848428  3.046479  1.214518  3.405158 -1.207456 -1.277210   \n",
       "3  0.716415  7.669600  4.486641  2.340563  3.963791 -1.027473 -1.938944   \n",
       "4  3.134112  7.608772  4.943759  9.857573  3.525811 -1.125531 -1.845975   \n",
       "\n",
       "         p4        g1        g2        g3        g4      stab     stabf  \n",
       "0 -1.723086  0.650456  0.859578  0.887445  0.958034  0.055347  unstable  \n",
       "1 -1.255012  0.413441  0.862414  0.562139  0.781760 -0.005957    stable  \n",
       "2 -0.920492  0.163041  0.766689  0.839444  0.109853  0.003471  unstable  \n",
       "3 -0.997374  0.446209  0.976744  0.929381  0.362718  0.028871  unstable  \n",
       "4 -0.554305  0.797110  0.455450  0.656947  0.820923  0.049860  unstable  "
      ]
     },
     "execution_count": 2,
     "metadata": {},
     "output_type": "execute_result"
    }
   ],
   "source": [
    "# importing my dataset\n",
    "df = pd.read_csv(\"Data_for_UCI_named.csv\")\n",
    "\n",
    "# viewing the head of my dataset\n",
    "df.head()"
   ]
  },
  {
   "cell_type": "code",
   "execution_count": 3,
   "metadata": {},
   "outputs": [
    {
     "data": {
      "text/html": [
       "<div>\n",
       "<style scoped>\n",
       "    .dataframe tbody tr th:only-of-type {\n",
       "        vertical-align: middle;\n",
       "    }\n",
       "\n",
       "    .dataframe tbody tr th {\n",
       "        vertical-align: top;\n",
       "    }\n",
       "\n",
       "    .dataframe thead th {\n",
       "        text-align: right;\n",
       "    }\n",
       "</style>\n",
       "<table border=\"1\" class=\"dataframe\">\n",
       "  <thead>\n",
       "    <tr style=\"text-align: right;\">\n",
       "      <th></th>\n",
       "      <th>tau1</th>\n",
       "      <th>tau2</th>\n",
       "      <th>tau3</th>\n",
       "      <th>tau4</th>\n",
       "      <th>p1</th>\n",
       "      <th>p2</th>\n",
       "      <th>p3</th>\n",
       "      <th>p4</th>\n",
       "      <th>g1</th>\n",
       "      <th>g2</th>\n",
       "      <th>g3</th>\n",
       "      <th>g4</th>\n",
       "      <th>stabf</th>\n",
       "    </tr>\n",
       "  </thead>\n",
       "  <tbody>\n",
       "    <tr>\n",
       "      <th>0</th>\n",
       "      <td>2.95906</td>\n",
       "      <td>3.079885</td>\n",
       "      <td>8.381025</td>\n",
       "      <td>9.780754</td>\n",
       "      <td>3.763085</td>\n",
       "      <td>-0.782604</td>\n",
       "      <td>-1.257395</td>\n",
       "      <td>-1.723086</td>\n",
       "      <td>0.650456</td>\n",
       "      <td>0.859578</td>\n",
       "      <td>0.887445</td>\n",
       "      <td>0.958034</td>\n",
       "      <td>unstable</td>\n",
       "    </tr>\n",
       "  </tbody>\n",
       "</table>\n",
       "</div>"
      ],
      "text/plain": [
       "      tau1      tau2      tau3      tau4        p1        p2        p3  \\\n",
       "0  2.95906  3.079885  8.381025  9.780754  3.763085 -0.782604 -1.257395   \n",
       "\n",
       "         p4        g1        g2        g3        g4     stabf  \n",
       "0 -1.723086  0.650456  0.859578  0.887445  0.958034  unstable  "
      ]
     },
     "execution_count": 3,
     "metadata": {},
     "output_type": "execute_result"
    }
   ],
   "source": [
    "# dropping the stab column because it is highly correlated with stabf\n",
    "df.drop(\"stab\", axis = 1, inplace=True)\n",
    "\n",
    "# viewing only the first row of my dataset\n",
    "df.head(1)"
   ]
  },
  {
   "cell_type": "code",
   "execution_count": 4,
   "metadata": {},
   "outputs": [],
   "source": [
    "# importing my encoder\n",
    "from sklearn.preprocessing import LabelEncoder\n",
    "\n",
    "# instantiating my model as an object\n",
    "encoder = LabelEncoder()"
   ]
  },
  {
   "cell_type": "code",
   "execution_count": 5,
   "metadata": {},
   "outputs": [],
   "source": [
    "# encoding my target variable \n",
    "\n",
    "df[\"stabf\"] = encoder.fit_transform(df[\"stabf\"])"
   ]
  },
  {
   "cell_type": "markdown",
   "metadata": {},
   "source": [
    "#### AFTER ENCODING MY TARGET VARIABLE\n",
    "- unstable became 1 and then \n",
    "- stable became 0"
   ]
  },
  {
   "cell_type": "code",
   "execution_count": 6,
   "metadata": {},
   "outputs": [],
   "source": [
    "# importing train test split to split my dataset into train and test set\n",
    "\n",
    "from sklearn.model_selection import train_test_split"
   ]
  },
  {
   "cell_type": "code",
   "execution_count": 7,
   "metadata": {},
   "outputs": [],
   "source": [
    "# defining my features and target and setting them into new variables\n",
    "\n",
    "X = df.drop(\"stabf\", axis = 1)\n",
    "y = df[\"stabf\"]\n",
    "\n",
    "# splitting my target and features into train and test set\n",
    "X_train, X_test, y_train, y_test = train_test_split(X, y, test_size=0.2, random_state=1)"
   ]
  },
  {
   "cell_type": "code",
   "execution_count": 8,
   "metadata": {},
   "outputs": [],
   "source": [
    "# importing my standard scaler \n",
    "from sklearn.preprocessing import StandardScaler\n",
    "\n",
    "# instantiating the standard scaler as an object\n",
    "scaler = StandardScaler()"
   ]
  },
  {
   "cell_type": "code",
   "execution_count": 9,
   "metadata": {},
   "outputs": [
    {
     "data": {
      "text/plain": [
       "((8000, 12), (2000, 12))"
      ]
     },
     "execution_count": 9,
     "metadata": {},
     "output_type": "execute_result"
    }
   ],
   "source": [
    "# checking the shape of my train and test features before scaling them \n",
    "\n",
    "X_train.shape, X_test.shape"
   ]
  },
  {
   "cell_type": "code",
   "execution_count": null,
   "metadata": {},
   "outputs": [],
   "source": [
    "# scaling the features of my train dataset using the standard and setting it back into a dataframe\n",
    "\n",
    "normalized_train_df = pd.DataFrame(scaler.fit_transform(X_train), columns = X_train.columns)"
   ]
  },
  {
   "cell_type": "markdown",
   "metadata": {},
   "source": [
    "please note that my x_train has now been turned to normalized_train_df"
   ]
  },
  {
   "cell_type": "code",
   "execution_count": 11,
   "metadata": {},
   "outputs": [],
   "source": [
    "# scaling the features of my test dataset using the standard and setting it back into a dataframe\n",
    "\n",
    "normalized_test_df = pd.DataFrame(scaler.transform(X_test), columns = X_test.columns)"
   ]
  },
  {
   "cell_type": "markdown",
   "metadata": {},
   "source": [
    "please note that my x_test has now been turned to normalized_test_df"
   ]
  },
  {
   "cell_type": "code",
   "execution_count": 12,
   "metadata": {},
   "outputs": [
    {
     "data": {
      "text/plain": [
       "((8000, 12), (8000, 12), (2000, 12), (2000, 12))"
      ]
     },
     "execution_count": 12,
     "metadata": {},
     "output_type": "execute_result"
    }
   ],
   "source": [
    "# checking the shape of my X_train, normalized_train_df, X_test and normalized_test_df for consistency\n",
    "\n",
    "X_train.shape, normalized_train_df.shape, X_test.shape, normalized_test_df.shape"
   ]
  },
  {
   "cell_type": "markdown",
   "metadata": {},
   "source": [
    "## Using the random forest"
   ]
  },
  {
   "cell_type": "code",
   "execution_count": 13,
   "metadata": {},
   "outputs": [],
   "source": [
    "#importing the random forest\n",
    "\n",
    "from sklearn.ensemble import RandomForestClassifier\n",
    "\n",
    "# instantiating the random forest classifier\n",
    "rfc = RandomForestClassifier(random_state = 1)"
   ]
  },
  {
   "cell_type": "code",
   "execution_count": 14,
   "metadata": {},
   "outputs": [
    {
     "data": {
      "text/plain": [
       "RandomForestClassifier(random_state=1)"
      ]
     },
     "execution_count": 14,
     "metadata": {},
     "output_type": "execute_result"
    }
   ],
   "source": [
    "# fitting the random forest to my dataaset\n",
    "rfc.fit(normalized_train_df, y_train)"
   ]
  },
  {
   "cell_type": "code",
   "execution_count": 15,
   "metadata": {},
   "outputs": [],
   "source": [
    "# using the random forest to make predictions\n",
    "\n",
    "random_forest_predictions = rfc.predict(normalized_test_df)"
   ]
  },
  {
   "cell_type": "code",
   "execution_count": 16,
   "metadata": {},
   "outputs": [],
   "source": [
    "# importing the metrics to evaluate the performance of my my model\n",
    "\n",
    "from sklearn.metrics import classification_report, recall_score, accuracy_score, precision_score, f1_score, confusion_matrix"
   ]
  },
  {
   "cell_type": "code",
   "execution_count": null,
   "metadata": {},
   "outputs": [],
   "source": []
  },
  {
   "cell_type": "code",
   "execution_count": 229,
   "metadata": {},
   "outputs": [
    {
     "name": "stdout",
     "output_type": "stream",
     "text": [
      "The recall score for the random forest classifiction is:  0.9573\n",
      "The accuracy score for the random forest classifiction is:  0.929\n",
      "The precision score for the random forest classifiction is:  0.9341\n",
      "The f1_score for the random forest classifiction is:  0.9456\n",
      "\n",
      "\n",
      "THIS IS THE CLASSIFICATION REPORT OF THE RANDOM FOREST PREDICTION\n",
      "=============================================================================\n",
      "\n",
      "\n",
      "              precision    recall  f1-score   support\n",
      "\n",
      "           0       0.92      0.88      0.90       712\n",
      "           1       0.93      0.96      0.95      1288\n",
      "\n",
      "    accuracy                           0.93      2000\n",
      "   macro avg       0.93      0.92      0.92      2000\n",
      "weighted avg       0.93      0.93      0.93      2000\n",
      "\n"
     ]
    }
   ],
   "source": [
    "# using the metrics to evaluate the performace of my model\n",
    "\n",
    "print(\"The recall score for the random forest classifiction is: \", round(recall_score(y_test,random_forest_predictions), 4))\n",
    "print(\"The accuracy score for the random forest classifiction is: \", round(accuracy_score(y_test, random_forest_predictions), 4))\n",
    "print(\"The precision score for the random forest classifiction is: \", round(precision_score(y_test, random_forest_predictions), 4))\n",
    "print(\"The f1_score for the random forest classifiction is: \", round(f1_score(y_test, random_forest_predictions), 4))\n",
    "print(\"\\n\")\n",
    "print(\"THIS IS THE CLASSIFICATION REPORT OF THE RANDOM FOREST PREDICTION\")\n",
    "print(\"=============================================================================\")\n",
    "print(\"\\n\")\n",
    "print(classification_report(y_test, random_forest_predictions))"
   ]
  },
  {
   "cell_type": "code",
   "execution_count": 179,
   "metadata": {},
   "outputs": [
    {
     "name": "stdout",
     "output_type": "stream",
     "text": [
      "\n",
      "\n",
      "THIS IS THE CONFUSION MATRIX FOR THE RANDOM FOREST CLASSIFICATION\n",
      "====================================================================\n"
     ]
    },
    {
     "data": {
      "text/html": [
       "<div>\n",
       "<style scoped>\n",
       "    .dataframe tbody tr th:only-of-type {\n",
       "        vertical-align: middle;\n",
       "    }\n",
       "\n",
       "    .dataframe tbody tr th {\n",
       "        vertical-align: top;\n",
       "    }\n",
       "\n",
       "    .dataframe thead th {\n",
       "        text-align: right;\n",
       "    }\n",
       "</style>\n",
       "<table border=\"1\" class=\"dataframe\">\n",
       "  <thead>\n",
       "    <tr style=\"text-align: right;\">\n",
       "      <th></th>\n",
       "      <th>True-Positive</th>\n",
       "      <th>True-Negative</th>\n",
       "    </tr>\n",
       "  </thead>\n",
       "  <tbody>\n",
       "    <tr>\n",
       "      <th>Predicted-Positive</th>\n",
       "      <td>625</td>\n",
       "      <td>87</td>\n",
       "    </tr>\n",
       "    <tr>\n",
       "      <th>Predicted-Negative</th>\n",
       "      <td>55</td>\n",
       "      <td>1233</td>\n",
       "    </tr>\n",
       "  </tbody>\n",
       "</table>\n",
       "</div>"
      ],
      "text/plain": [
       "                    True-Positive  True-Negative\n",
       "Predicted-Positive            625             87\n",
       "Predicted-Negative             55           1233"
      ]
     },
     "execution_count": 179,
     "metadata": {},
     "output_type": "execute_result"
    }
   ],
   "source": [
    "print(\"\\n\")\n",
    "print(\"THIS IS THE CONFUSION MATRIX FOR THE RANDOM FOREST CLASSIFICATION\")\n",
    "print(\"====================================================================\")\n",
    "random_forest_cnf = confusion_matrix(y_test, random_forest_predictions)\n",
    "\n",
    "random_forest_cnf = pd.DataFrame(random_forest_cnf, columns = [\"True-Positive\", \"True-Negative\"],\n",
    "                                 index = [\"Predicted-Positive\", \"Predicted-Negative\"])\n",
    "random_forest_cnf"
   ]
  },
  {
   "cell_type": "markdown",
   "metadata": {},
   "source": [
    "## Using extra tress classifier "
   ]
  },
  {
   "cell_type": "code",
   "execution_count": 66,
   "metadata": {},
   "outputs": [],
   "source": [
    "# importing  the random extra tree \n",
    "from sklearn.ensemble import ExtraTreesClassifier\n",
    "\n",
    "# instantiating the extra tress classifier as an object\n",
    "extra_tree = ExtraTreesClassifier(random_state = 1)"
   ]
  },
  {
   "cell_type": "code",
   "execution_count": 67,
   "metadata": {},
   "outputs": [
    {
     "data": {
      "text/plain": [
       "ExtraTreesClassifier(random_state=1)"
      ]
     },
     "execution_count": 67,
     "metadata": {},
     "output_type": "execute_result"
    }
   ],
   "source": [
    "# fitting the extra tree ot my train dataset\n",
    "extra_tree.fit(normalized_train_df, y_train)"
   ]
  },
  {
   "cell_type": "code",
   "execution_count": 68,
   "metadata": {},
   "outputs": [],
   "source": [
    "# using the extra trees to make predictions\n",
    "extra_tree_predictions = extra_tree.predict(normalized_test_df)"
   ]
  },
  {
   "cell_type": "code",
   "execution_count": 254,
   "metadata": {},
   "outputs": [
    {
     "name": "stdout",
     "output_type": "stream",
     "text": [
      "The recall score for the extra trees classifiction is:  0.9705\n",
      "The accuracy score for the extra trees classifiction is:  0.928\n",
      "The precision score for the extra trees classifiction is:  0.9218\n",
      "The f1_score for the extra trees classifiction is:  0.9455\n",
      "\n",
      "\n",
      "THIS IS THE CLASSIFICATION REPORT OF THE EXTRA TREE PREDICTIONS\n",
      "==================================================================\n",
      "\n",
      "\n",
      "              precision    recall  f1-score   support\n",
      "\n",
      "           0       0.94      0.85      0.89       712\n",
      "           1       0.92      0.97      0.95      1288\n",
      "\n",
      "    accuracy                           0.93      2000\n",
      "   macro avg       0.93      0.91      0.92      2000\n",
      "weighted avg       0.93      0.93      0.93      2000\n",
      "\n"
     ]
    }
   ],
   "source": [
    "# Evaluating the metrics of the model\n",
    "\n",
    "print(\"The recall score for the extra trees classifiction is: \", round(recall_score(y_test, extra_tree_predictions), 4))\n",
    "print(\"The accuracy score for the extra trees classifiction is: \", accuracy_score(y_test, extra_tree_predictions))\n",
    "print(\"The precision score for the extra trees classifiction is: \", round(precision_score(y_test, extra_tree_predictions), 4))\n",
    "print(\"The f1_score for the extra trees classifiction is: \", round(f1_score(y_test, extra_tree_predictions), 4))\n",
    "print(\"\\n\")\n",
    "print(\"THIS IS THE CLASSIFICATION REPORT OF THE EXTRA TREE PREDICTIONS\")\n",
    "print(\"==================================================================\")\n",
    "print(\"\\n\")\n",
    "print(classification_report(y_test, extra_tree_predictions))"
   ]
  },
  {
   "cell_type": "code",
   "execution_count": 182,
   "metadata": {},
   "outputs": [
    {
     "name": "stdout",
     "output_type": "stream",
     "text": [
      "\n",
      "\n",
      "THIS IS THE CONFUSION MATRIX FOR THE RANDOM FOREST CLASSIFICATION\n",
      "==================================================================\n"
     ]
    },
    {
     "data": {
      "text/html": [
       "<div>\n",
       "<style scoped>\n",
       "    .dataframe tbody tr th:only-of-type {\n",
       "        vertical-align: middle;\n",
       "    }\n",
       "\n",
       "    .dataframe tbody tr th {\n",
       "        vertical-align: top;\n",
       "    }\n",
       "\n",
       "    .dataframe thead th {\n",
       "        text-align: right;\n",
       "    }\n",
       "</style>\n",
       "<table border=\"1\" class=\"dataframe\">\n",
       "  <thead>\n",
       "    <tr style=\"text-align: right;\">\n",
       "      <th></th>\n",
       "      <th>True-Positive</th>\n",
       "      <th>True-Negative</th>\n",
       "    </tr>\n",
       "  </thead>\n",
       "  <tbody>\n",
       "    <tr>\n",
       "      <th>Predicted-Positive</th>\n",
       "      <td>606</td>\n",
       "      <td>106</td>\n",
       "    </tr>\n",
       "    <tr>\n",
       "      <th>Predicted-Negative</th>\n",
       "      <td>38</td>\n",
       "      <td>1250</td>\n",
       "    </tr>\n",
       "  </tbody>\n",
       "</table>\n",
       "</div>"
      ],
      "text/plain": [
       "                    True-Positive  True-Negative\n",
       "Predicted-Positive            606            106\n",
       "Predicted-Negative             38           1250"
      ]
     },
     "execution_count": 182,
     "metadata": {},
     "output_type": "execute_result"
    }
   ],
   "source": [
    "print(\"\\n\")\n",
    "print(\"THIS IS THE CONFUSION MATRIX FOR THE RANDOM FOREST CLASSIFICATION\")\n",
    "extra_tree_cnf = confusion_matrix(y_test, extra_tree_predictions)\n",
    "\n",
    "extra_tree_cnf = pd.DataFrame(extra_tree_cnf, columns = [\"True-Positive\", \"True-Negative\"],\n",
    "                                 index = [\"Predicted-Positive\", \"Predicted-Negative\"])\n",
    "print(\"==================================================================\")\n",
    "extra_tree_cnf"
   ]
  },
  {
   "cell_type": "markdown",
   "metadata": {},
   "source": [
    "## Using the lightgbm"
   ]
  },
  {
   "cell_type": "code",
   "execution_count": 202,
   "metadata": {},
   "outputs": [],
   "source": [
    "# importing the light gbm\n",
    "import lightgbm as lgb\n",
    "\n",
    "# Instantiating the object of the model\n",
    "lgbm = lgb.LGBMClassifier()"
   ]
  },
  {
   "cell_type": "code",
   "execution_count": 203,
   "metadata": {},
   "outputs": [
    {
     "data": {
      "text/plain": [
       "LGBMClassifier()"
      ]
     },
     "execution_count": 203,
     "metadata": {},
     "output_type": "execute_result"
    }
   ],
   "source": [
    "lgbm.fit(normalized_train_df, y_train)"
   ]
  },
  {
   "cell_type": "code",
   "execution_count": 204,
   "metadata": {},
   "outputs": [],
   "source": [
    "lgbm_prediction = lgbm.predict(normalized_test_df)"
   ]
  },
  {
   "cell_type": "code",
   "execution_count": 230,
   "metadata": {},
   "outputs": [
    {
     "name": "stdout",
     "output_type": "stream",
     "text": [
      "The recall score for the classifiction is:  0.9627\n",
      "The accuracy score for the classifiction is:  0.9375\n",
      "The precision score for the classifiction is:  0.9415\n",
      "The f1_score for the classifiction is:  0.952\n",
      "\n",
      "\n",
      "THIS IS THE CLASSIFICATION REPORT OF THE LIGHTGBM PREDICTIONS\n",
      "==============================================================\n",
      "\n",
      "\n",
      "              precision    recall  f1-score   support\n",
      "\n",
      "           0       0.93      0.89      0.91       712\n",
      "           1       0.94      0.96      0.95      1288\n",
      "\n",
      "    accuracy                           0.94      2000\n",
      "   macro avg       0.94      0.93      0.93      2000\n",
      "weighted avg       0.94      0.94      0.94      2000\n",
      "\n"
     ]
    }
   ],
   "source": [
    "# Evaluating the performance of the model using the metric\n",
    "\n",
    "print(\"The recall score for the classifiction is: \", round(recall_score(y_test, lgbm_prediction), 4))\n",
    "print(\"The accuracy score for the classifiction is: \", round(accuracy_score(y_test, lgbm_prediction), 4))\n",
    "print(\"The precision score for the classifiction is: \", round(precision_score(y_test, lgbm_prediction), 4))\n",
    "print(\"The f1_score for the classifiction is: \", round(f1_score(y_test, lgbm_prediction), 4))\n",
    "print(\"\\n\")\n",
    "print(\"THIS IS THE CLASSIFICATION REPORT OF THE LIGHTGBM PREDICTIONS\")\n",
    "print(\"==============================================================\")\n",
    "print(\"\\n\")\n",
    "print(classification_report(y_test, lgbm_prediction))"
   ]
  },
  {
   "cell_type": "code",
   "execution_count": 209,
   "metadata": {},
   "outputs": [
    {
     "name": "stdout",
     "output_type": "stream",
     "text": [
      "\n",
      "\n",
      "THIS IS THE CONFUSION MATRIX FOR THE LIGHTGBM\n",
      "==================================================\n"
     ]
    },
    {
     "data": {
      "text/html": [
       "<div>\n",
       "<style scoped>\n",
       "    .dataframe tbody tr th:only-of-type {\n",
       "        vertical-align: middle;\n",
       "    }\n",
       "\n",
       "    .dataframe tbody tr th {\n",
       "        vertical-align: top;\n",
       "    }\n",
       "\n",
       "    .dataframe thead th {\n",
       "        text-align: right;\n",
       "    }\n",
       "</style>\n",
       "<table border=\"1\" class=\"dataframe\">\n",
       "  <thead>\n",
       "    <tr style=\"text-align: right;\">\n",
       "      <th></th>\n",
       "      <th>True-Positive</th>\n",
       "      <th>True-Negative</th>\n",
       "    </tr>\n",
       "  </thead>\n",
       "  <tbody>\n",
       "    <tr>\n",
       "      <th>Predicted-Positive</th>\n",
       "      <td>635</td>\n",
       "      <td>77</td>\n",
       "    </tr>\n",
       "    <tr>\n",
       "      <th>Predicted-Negative</th>\n",
       "      <td>48</td>\n",
       "      <td>1240</td>\n",
       "    </tr>\n",
       "  </tbody>\n",
       "</table>\n",
       "</div>"
      ],
      "text/plain": [
       "                    True-Positive  True-Negative\n",
       "Predicted-Positive            635             77\n",
       "Predicted-Negative             48           1240"
      ]
     },
     "execution_count": 209,
     "metadata": {},
     "output_type": "execute_result"
    }
   ],
   "source": [
    "print(\"\\n\")\n",
    "print(\"THIS IS THE CONFUSION MATRIX FOR THE LIGHTGBM\")\n",
    "lightgbm_cnf = confusion_matrix(y_test, lgbm_prediction)\n",
    "\n",
    "lightgbm_cnf = pd.DataFrame(lightgbm_cnf, columns = [\"True-Positive\", \"True-Negative\"],\n",
    "                                 index = [\"Predicted-Positive\", \"Predicted-Negative\"])\n",
    "print(\"==================================================\")\n",
    "lightgbm_cnf"
   ]
  },
  {
   "cell_type": "markdown",
   "metadata": {},
   "source": [
    "## Using the XGBoost"
   ]
  },
  {
   "cell_type": "code",
   "execution_count": 167,
   "metadata": {},
   "outputs": [],
   "source": [
    "# importing my xgb classifier\n",
    "from xgboost import XGBClassifier\n",
    "\n",
    "# instantiating the model as an object\n",
    "xgb = XGBClassifier(random_state = 1)"
   ]
  },
  {
   "cell_type": "code",
   "execution_count": 168,
   "metadata": {},
   "outputs": [
    {
     "data": {
      "text/plain": [
       "XGBClassifier(base_score=0.5, booster='gbtree', colsample_bylevel=1,\n",
       "              colsample_bynode=1, colsample_bytree=1, gamma=0, gpu_id=-1,\n",
       "              importance_type='gain', interaction_constraints='',\n",
       "              learning_rate=0.300000012, max_delta_step=0, max_depth=6,\n",
       "              min_child_weight=1, missing=nan, monotone_constraints='()',\n",
       "              n_estimators=100, n_jobs=0, num_parallel_tree=1, random_state=1,\n",
       "              reg_alpha=0, reg_lambda=1, scale_pos_weight=1, subsample=1,\n",
       "              tree_method='exact', validate_parameters=1, verbosity=None)"
      ]
     },
     "execution_count": 168,
     "metadata": {},
     "output_type": "execute_result"
    }
   ],
   "source": [
    "# fitting our xgb to the trainning set\n",
    "xgb.fit(normalized_train_df, y_train)"
   ]
  },
  {
   "cell_type": "code",
   "execution_count": 169,
   "metadata": {},
   "outputs": [],
   "source": [
    "# making predictions with our xgboost\n",
    "xgb_predictions = xgb.predict(normalized_test_df)"
   ]
  },
  {
   "cell_type": "code",
   "execution_count": null,
   "metadata": {},
   "outputs": [],
   "source": []
  },
  {
   "cell_type": "code",
   "execution_count": 211,
   "metadata": {},
   "outputs": [
    {
     "name": "stdout",
     "output_type": "stream",
     "text": [
      "The recall score for the classifiction is:  0.9651\n",
      "The accuracy score for the classifiction is:  0.9455\n",
      "The precision score for the classifiction is:  0.951\n",
      "The f1_score for the classifiction is:  0.958\n",
      "\n",
      "\n",
      "THIS IS THE CLASSIFICATION REPORT OF THE GRADIENT BOOST\n",
      "========================================================\n",
      "\n",
      "\n",
      "              precision    recall  f1-score   support\n",
      "\n",
      "           0       0.94      0.91      0.92       712\n",
      "           1       0.95      0.97      0.96      1288\n",
      "\n",
      "    accuracy                           0.95      2000\n",
      "   macro avg       0.94      0.94      0.94      2000\n",
      "weighted avg       0.95      0.95      0.95      2000\n",
      "\n"
     ]
    }
   ],
   "source": [
    "# Evaluating the metrics of the model\n",
    "\n",
    "print(\"The recall score for the classifiction is: \", round(recall_score(y_test, xgb_predictions), 4))\n",
    "print(\"The accuracy score for the classifiction is: \", round(accuracy_score(y_test, xgb_predictions), 4))\n",
    "print(\"The precision score for the classifiction is: \", round(precision_score(y_test, xgb_predictions), 4))\n",
    "print(\"The f1_score for the classifiction is: \", round(f1_score(y_test, xgb_predictions), 4))\n",
    "print(\"\\n\")\n",
    "print(\"THIS IS THE CLASSIFICATION REPORT OF THE GRADIENT BOOST\")\n",
    "print(\"========================================================\")\n",
    "print(\"\\n\")\n",
    "print(classification_report(y_test, xgb_predictions))"
   ]
  },
  {
   "cell_type": "code",
   "execution_count": 213,
   "metadata": {},
   "outputs": [
    {
     "name": "stdout",
     "output_type": "stream",
     "text": [
      "\n",
      "\n",
      "THIS IS THE CONFUSION MATRIX FOR THE GRADIENT BOOSTING\n",
      "========================================================\n"
     ]
    },
    {
     "data": {
      "text/html": [
       "<div>\n",
       "<style scoped>\n",
       "    .dataframe tbody tr th:only-of-type {\n",
       "        vertical-align: middle;\n",
       "    }\n",
       "\n",
       "    .dataframe tbody tr th {\n",
       "        vertical-align: top;\n",
       "    }\n",
       "\n",
       "    .dataframe thead th {\n",
       "        text-align: right;\n",
       "    }\n",
       "</style>\n",
       "<table border=\"1\" class=\"dataframe\">\n",
       "  <thead>\n",
       "    <tr style=\"text-align: right;\">\n",
       "      <th></th>\n",
       "      <th>True-Positive</th>\n",
       "      <th>True-Negative</th>\n",
       "    </tr>\n",
       "  </thead>\n",
       "  <tbody>\n",
       "    <tr>\n",
       "      <th>Predicted-Positive</th>\n",
       "      <td>648</td>\n",
       "      <td>64</td>\n",
       "    </tr>\n",
       "    <tr>\n",
       "      <th>Predicted-Negative</th>\n",
       "      <td>45</td>\n",
       "      <td>1243</td>\n",
       "    </tr>\n",
       "  </tbody>\n",
       "</table>\n",
       "</div>"
      ],
      "text/plain": [
       "                    True-Positive  True-Negative\n",
       "Predicted-Positive            648             64\n",
       "Predicted-Negative             45           1243"
      ]
     },
     "execution_count": 213,
     "metadata": {},
     "output_type": "execute_result"
    }
   ],
   "source": [
    "print(\"\\n\")\n",
    "print(\"THIS IS THE CONFUSION MATRIX FOR THE GRADIENT BOOSTING\")\n",
    "xgb_cnf = confusion_matrix(y_test, xgb_predictions)\n",
    "\n",
    "xgb_cnf = pd.DataFrame(xgb_cnf, columns = [\"True-Positive\", \"True-Negative\"],\n",
    "                                 index = [\"Predicted-Positive\", \"Predicted-Negative\"])\n",
    "print(\"========================================================\")\n",
    "xgb_cnf"
   ]
  },
  {
   "cell_type": "markdown",
   "metadata": {},
   "source": [
    "## improving our extra tress using the randomized cross validation search"
   ]
  },
  {
   "cell_type": "code",
   "execution_count": 87,
   "metadata": {},
   "outputs": [],
   "source": [
    "# importing the evaluating model to search through our models to get the best parameters\n",
    "\n",
    "from sklearn.model_selection import RandomizedSearchCV"
   ]
  },
  {
   "cell_type": "code",
   "execution_count": 95,
   "metadata": {},
   "outputs": [],
   "source": [
    "# creating a dictionary of the tuning the Randomizedsearchcv will use \n",
    "\n",
    "param = {\"n_estimators\" : [50, 100, 300, 500, 1000],\n",
    "         \"min_samples_split\" : [2, 3, 5, 7, 9],\n",
    "         \"min_samples_leaf\" : [1, 2, 4, 6, 8], \n",
    "         \"max_features\" : ['auto', 'sqrt', 'log2', None],\n",
    "        } "
   ]
  },
  {
   "cell_type": "code",
   "execution_count": 235,
   "metadata": {},
   "outputs": [],
   "source": [
    "# instantiating the randomized search cv and setting my cv to 5 so the randomized cv can ceate five folds and run\n",
    "# cross validation on each fold and setting my scoring as accuracy\n",
    "# that is the randomizeed search cv will use the accuracy to score each fold\n",
    "\n",
    "rscv = RandomizedSearchCV(estimator = extra_tree,\n",
    "                          param_distributions = param,\n",
    "                          random_state = 1, \n",
    "                          cv = 5,\n",
    "                          scoring = \"accuracy\",\n",
    "                          n_jobs = -1, \n",
    "                          verbose = 1,\n",
    "                         )"
   ]
  },
  {
   "cell_type": "code",
   "execution_count": 236,
   "metadata": {},
   "outputs": [
    {
     "name": "stdout",
     "output_type": "stream",
     "text": [
      "Fitting 5 folds for each of 10 candidates, totalling 50 fits\n"
     ]
    },
    {
     "name": "stderr",
     "output_type": "stream",
     "text": [
      "[Parallel(n_jobs=-1)]: Using backend LokyBackend with 4 concurrent workers.\n",
      "[Parallel(n_jobs=-1)]: Done  42 tasks      | elapsed:  1.1min\n",
      "[Parallel(n_jobs=-1)]: Done  50 out of  50 | elapsed:  1.2min finished\n"
     ]
    }
   ],
   "source": [
    "# fitting the randomized search cv to our training set\n",
    "search = rscv.fit(normalized_train_df, y_train)"
   ]
  },
  {
   "cell_type": "code",
   "execution_count": 237,
   "metadata": {
    "scrolled": false
   },
   "outputs": [
    {
     "data": {
      "text/plain": [
       "{'n_estimators': 1000,\n",
       " 'min_samples_split': 2,\n",
       " 'min_samples_leaf': 8,\n",
       " 'max_features': None}"
      ]
     },
     "execution_count": 237,
     "metadata": {},
     "output_type": "execute_result"
    }
   ],
   "source": [
    "# getting the best parameters for the best model\n",
    "search.best_params_"
   ]
  },
  {
   "cell_type": "code",
   "execution_count": 238,
   "metadata": {},
   "outputs": [],
   "source": [
    "# using the model to make predictions. the randomized search cv will use the best parameters\n",
    "search_predictions = rscv.predict(normalized_test_df)"
   ]
  },
  {
   "cell_type": "code",
   "execution_count": 239,
   "metadata": {},
   "outputs": [
    {
     "name": "stdout",
     "output_type": "stream",
     "text": [
      "The recall score for the classifiction is:  0.9589\n",
      "The accuracy score for the classifiction is:  0.927\n",
      "The precision score for the classifiction is:  0.93\n",
      "The f1_score for the classifiction is:  0.9442\n",
      "\n",
      "\n",
      "THIS IS THE CLASSIFICATION REPORT OF THE RANDOMIZED SEARCH CV\n",
      "========================================================\n",
      "\n",
      "\n",
      "              precision    recall  f1-score   support\n",
      "\n",
      "           0       0.92      0.87      0.89       712\n",
      "           1       0.93      0.96      0.94      1288\n",
      "\n",
      "    accuracy                           0.93      2000\n",
      "   macro avg       0.93      0.91      0.92      2000\n",
      "weighted avg       0.93      0.93      0.93      2000\n",
      "\n"
     ]
    }
   ],
   "source": [
    "# Evaluate the performance of our model using the metrics \n",
    "\n",
    "print(\"The recall score for the classifiction is: \", round(recall_score(y_test, search_predictions), 4))\n",
    "print(\"The accuracy score for the classifiction is: \", round(accuracy_score(y_test, search_predictions), 4))\n",
    "print(\"The precision score for the classifiction is: \", round(precision_score(y_test, search_predictions), 4))\n",
    "print(\"The f1_score for the classifiction is: \", round(f1_score(y_test, search_predictions), 4))\n",
    "print(\"\\n\")\n",
    "print(\"THIS IS THE CLASSIFICATION REPORT OF THE RANDOMIZED SEARCH CV\")\n",
    "print(\"========================================================\")\n",
    "print(\"\\n\")\n",
    "print(classification_report(y_test, search_predictions))"
   ]
  },
  {
   "cell_type": "code",
   "execution_count": 240,
   "metadata": {},
   "outputs": [
    {
     "name": "stdout",
     "output_type": "stream",
     "text": [
      "\n",
      "\n",
      "THIS IS THE CONFUSION MATRIX FOR THE RANDOMIZED SEARCH CV\n",
      "=============================================================\n"
     ]
    },
    {
     "data": {
      "text/html": [
       "<div>\n",
       "<style scoped>\n",
       "    .dataframe tbody tr th:only-of-type {\n",
       "        vertical-align: middle;\n",
       "    }\n",
       "\n",
       "    .dataframe tbody tr th {\n",
       "        vertical-align: top;\n",
       "    }\n",
       "\n",
       "    .dataframe thead th {\n",
       "        text-align: right;\n",
       "    }\n",
       "</style>\n",
       "<table border=\"1\" class=\"dataframe\">\n",
       "  <thead>\n",
       "    <tr style=\"text-align: right;\">\n",
       "      <th></th>\n",
       "      <th>True-Positive</th>\n",
       "      <th>True-Negative</th>\n",
       "    </tr>\n",
       "  </thead>\n",
       "  <tbody>\n",
       "    <tr>\n",
       "      <th>Predicted-Positive</th>\n",
       "      <td>619</td>\n",
       "      <td>93</td>\n",
       "    </tr>\n",
       "    <tr>\n",
       "      <th>Predicted-Negative</th>\n",
       "      <td>53</td>\n",
       "      <td>1235</td>\n",
       "    </tr>\n",
       "  </tbody>\n",
       "</table>\n",
       "</div>"
      ],
      "text/plain": [
       "                    True-Positive  True-Negative\n",
       "Predicted-Positive            619             93\n",
       "Predicted-Negative             53           1235"
      ]
     },
     "execution_count": 240,
     "metadata": {},
     "output_type": "execute_result"
    }
   ],
   "source": [
    "print(\"\\n\")\n",
    "print(\"THIS IS THE CONFUSION MATRIX FOR THE RANDOMIZED SEARCH CV\")\n",
    "search_cnf = confusion_matrix(y_test, search_predictions)\n",
    "\n",
    "search_cnf = pd.DataFrame(search_cnf, columns = [\"True-Positive\", \"True-Negative\"],\n",
    "                                 index = [\"Predicted-Positive\", \"Predicted-Negative\"])\n",
    "print(\"=============================================================\")\n",
    "search_cnf"
   ]
  },
  {
   "cell_type": "code",
   "execution_count": 244,
   "metadata": {},
   "outputs": [],
   "source": [
    "new_extra_tree = ExtraTreesClassifier(n_estimators = 1000,\n",
    "                                      min_samples_split = 2,\n",
    "                                      min_samples_leaf = 8,\n",
    "                                      max_features = None\n",
    ")"
   ]
  },
  {
   "cell_type": "code",
   "execution_count": 246,
   "metadata": {},
   "outputs": [
    {
     "data": {
      "text/plain": [
       "ExtraTreesClassifier(max_features=None, min_samples_leaf=8, n_estimators=1000)"
      ]
     },
     "execution_count": 246,
     "metadata": {},
     "output_type": "execute_result"
    }
   ],
   "source": [
    "new_extra_tree.fit(normalized_train_df, y_train)"
   ]
  },
  {
   "cell_type": "code",
   "execution_count": 252,
   "metadata": {},
   "outputs": [],
   "source": [
    "new_tree_preditions = new_extra_tree.predict(normalized_test_df)"
   ]
  },
  {
   "cell_type": "code",
   "execution_count": 253,
   "metadata": {},
   "outputs": [
    {
     "name": "stdout",
     "output_type": "stream",
     "text": [
      "0.926\n"
     ]
    }
   ],
   "source": [
    "print(accuracy_score(y_test, new_tree_preditions ))"
   ]
  },
  {
   "cell_type": "code",
   "execution_count": 250,
   "metadata": {},
   "outputs": [],
   "source": [
    "# getting the importamnce of each feature in the the extra_tree \n",
    "extra_tree_importance = new_extra_tree.feature_importances_"
   ]
  },
  {
   "cell_type": "code",
   "execution_count": null,
   "metadata": {},
   "outputs": [],
   "source": []
  },
  {
   "cell_type": "code",
   "execution_count": 251,
   "metadata": {},
   "outputs": [
    {
     "data": {
      "text/html": [
       "<div>\n",
       "<style scoped>\n",
       "    .dataframe tbody tr th:only-of-type {\n",
       "        vertical-align: middle;\n",
       "    }\n",
       "\n",
       "    .dataframe tbody tr th {\n",
       "        vertical-align: top;\n",
       "    }\n",
       "\n",
       "    .dataframe thead th {\n",
       "        text-align: right;\n",
       "    }\n",
       "</style>\n",
       "<table border=\"1\" class=\"dataframe\">\n",
       "  <thead>\n",
       "    <tr style=\"text-align: right;\">\n",
       "      <th></th>\n",
       "      <th>0</th>\n",
       "    </tr>\n",
       "  </thead>\n",
       "  <tbody>\n",
       "    <tr>\n",
       "      <th>tau1</th>\n",
       "      <td>13.770188</td>\n",
       "    </tr>\n",
       "    <tr>\n",
       "      <th>tau2</th>\n",
       "      <td>14.011240</td>\n",
       "    </tr>\n",
       "    <tr>\n",
       "      <th>tau3</th>\n",
       "      <td>13.422072</td>\n",
       "    </tr>\n",
       "    <tr>\n",
       "      <th>tau4</th>\n",
       "      <td>13.556138</td>\n",
       "    </tr>\n",
       "    <tr>\n",
       "      <th>p1</th>\n",
       "      <td>0.375025</td>\n",
       "    </tr>\n",
       "    <tr>\n",
       "      <th>p2</th>\n",
       "      <td>0.544680</td>\n",
       "    </tr>\n",
       "    <tr>\n",
       "      <th>p3</th>\n",
       "      <td>0.540515</td>\n",
       "    </tr>\n",
       "    <tr>\n",
       "      <th>p4</th>\n",
       "      <td>0.513865</td>\n",
       "    </tr>\n",
       "    <tr>\n",
       "      <th>g1</th>\n",
       "      <td>10.237642</td>\n",
       "    </tr>\n",
       "    <tr>\n",
       "      <th>g2</th>\n",
       "      <td>10.752015</td>\n",
       "    </tr>\n",
       "    <tr>\n",
       "      <th>g3</th>\n",
       "      <td>11.257479</td>\n",
       "    </tr>\n",
       "    <tr>\n",
       "      <th>g4</th>\n",
       "      <td>11.019139</td>\n",
       "    </tr>\n",
       "  </tbody>\n",
       "</table>\n",
       "</div>"
      ],
      "text/plain": [
       "              0\n",
       "tau1  13.770188\n",
       "tau2  14.011240\n",
       "tau3  13.422072\n",
       "tau4  13.556138\n",
       "p1     0.375025\n",
       "p2     0.544680\n",
       "p3     0.540515\n",
       "p4     0.513865\n",
       "g1    10.237642\n",
       "g2    10.752015\n",
       "g3    11.257479\n",
       "g4    11.019139"
      ]
     },
     "execution_count": 251,
     "metadata": {},
     "output_type": "execute_result"
    }
   ],
   "source": [
    "# putting the features and their importance in a dataframe\n",
    "pd.DataFrame(extra_tree_importance*100, index = normalized_train_df.columns)"
   ]
  },
  {
   "cell_type": "code",
   "execution_count": null,
   "metadata": {},
   "outputs": [],
   "source": []
  },
  {
   "cell_type": "code",
   "execution_count": null,
   "metadata": {},
   "outputs": [],
   "source": []
  },
  {
   "cell_type": "code",
   "execution_count": null,
   "metadata": {},
   "outputs": [],
   "source": []
  }
 ],
 "metadata": {
  "kernelspec": {
   "display_name": "Python 3",
   "language": "python",
   "name": "python3"
  },
  "language_info": {
   "codemirror_mode": {
    "name": "ipython",
    "version": 3
   },
   "file_extension": ".py",
   "mimetype": "text/x-python",
   "name": "python",
   "nbconvert_exporter": "python",
   "pygments_lexer": "ipython3",
   "version": "3.8.5"
  }
 },
 "nbformat": 4,
 "nbformat_minor": 4
}
